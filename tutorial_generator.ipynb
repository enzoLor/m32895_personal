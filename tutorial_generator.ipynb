{
 "cells": [
  {
   "cell_type": "markdown",
   "metadata": {},
   "source": [
    "generate:\n",
    "\n",
    "tut_1.1\n",
    "tut_1.2\n",
    "tut_2.1\n",
    "tut_2.2\n",
    "etc."
   ]
  }
 ],
 "metadata": {
  "language_info": {
   "name": "python"
  }
 },
 "nbformat": 4,
 "nbformat_minor": 2
}
